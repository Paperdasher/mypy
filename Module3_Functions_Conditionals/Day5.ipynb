{
  "nbformat": 4,
  "nbformat_minor": 0,
  "metadata": {
    "colab": {
      "provenance": [],
      "authorship_tag": "ABX9TyMuZqNV1NM+KXwyg55xe0FO",
      "include_colab_link": true
    },
    "kernelspec": {
      "name": "python3",
      "display_name": "Python 3"
    },
    "language_info": {
      "name": "python"
    }
  },
  "cells": [
    {
      "cell_type": "markdown",
      "metadata": {
        "id": "view-in-github",
        "colab_type": "text"
      },
      "source": [
        "<a href=\"https://colab.research.google.com/github/Paperdasher/mypy/blob/main/Day5.ipynb\" target=\"_parent\"><img src=\"https://colab.research.google.com/assets/colab-badge.svg\" alt=\"Open In Colab\"/></a>"
      ]
    },
    {
      "cell_type": "markdown",
      "source": [
        "#<b>Day 5: Function Syntax</b>"
      ],
      "metadata": {
        "id": "j4LmNhtS77Zx"
      }
    },
    {
      "cell_type": "markdown",
      "source": [
        "Functions! The basis of coding, having automated actions taken based on inputs. Functions in Python are very simple, use the keyword `def` and then add the inputs/arguments. Even if the function has no argument, the parenthesis need to be included, just without anything inside.\n",
        "\n",
        "Ex. `def foo()`, `def foo(input1, input2)`\n",
        "\n",
        "As with variable names, the same rules apply to function names as well(alpha-numeric + underscores)."
      ],
      "metadata": {
        "id": "QnuQQpiZ9o4R"
      }
    },
    {
      "cell_type": "markdown",
      "source": [
        "Functions have a return statement. In Python, you are not required to explicitly write a return statement, if you choose not to it will default to `None`. Print statements are NOT considered return statements, printing and returning are not the same. Return statements terminate the program, any code after the return statement will not be run if the return statement is executed.\n",
        "\n",
        "```\n",
        "def concatenate(input1, input2):\n",
        "  return str(input1) + str(input2)\n",
        "\n",
        "def add5(numinput):\n",
        "  print(numinput + 5)\n",
        "```"
      ],
      "metadata": {
        "id": "PnCvDBHF9qw-"
      }
    },
    {
      "cell_type": "markdown",
      "source": [
        "Call a function simply by stating its name and inserting necessary parameters.\n",
        "\n",
        "The following are based off of the previous examples.\n",
        "```\n",
        "print(concatenate(\"World\", \" champions\")\n",
        "print(add5(12))\n",
        "```\n",
        "\n",
        "###What will each print statement show?"
      ],
      "metadata": {
        "id": "sZ21NiUbuu6L"
      }
    },
    {
      "cell_type": "markdown",
      "source": [
        "Answer:\n",
        "```\n",
        "\"World champions\"\n",
        "17\n",
        "None\n",
        "```"
      ],
      "metadata": {
        "id": "NB_J-0mYfpfr"
      }
    },
    {
      "cell_type": "markdown",
      "source": [
        "Remember to always have a colon(:) after defining the function. In most IDEs it will automatically indent for you. If not, you must indent a consistent amount within all functions in a file or else an indentation error will occur. Colons and indentation come in pairs, if a statement requires a colon it will also require the containing code to be indented.\n",
        "\n",
        "Indentation/colon required for:\n",
        "- Function defining\n",
        "- Conditional statements(if/elif/else)\n",
        "- Loops(for/while)\n",
        "- Classes(advanced, will not cover)\n",
        "- Exception handling(advanced, will not cover)\n",
        "\n",
        "In a nutshell, indentation can be thought of as code under the umbrella of the overarching statement. All code under a function is under that umbrella, therefore indented. All code under an if-statement is under that condition, indented that same amount.\n",
        "\n",
        "```\n",
        "def is_even(numlist):\n",
        "   for num in numlist:\n",
        "      if num % 2 == 0:\n",
        "         print(\"Even\")\n",
        "      else:\n",
        "         print(\"Odd\")\n",
        "```\n"
      ],
      "metadata": {
        "id": "IzUk7lI1gWbD"
      }
    },
    {
      "cell_type": "markdown",
      "source": [
        "---"
      ],
      "metadata": {
        "id": "X5gGZLyK9Wki"
      }
    },
    {
      "cell_type": "markdown",
      "source": [
        "##<b>Exercise:</b>"
      ],
      "metadata": {
        "id": "GLRCxDaY9W3Z"
      }
    },
    {
      "cell_type": "markdown",
      "source": [
        "Write a function `states` that identifies what state a body of water is in at the given temperature.\n",
        "\n",
        "Output Conditions:\n",
        "- Less than 0 degrees -> \"frozen\"\n",
        "- 0 - 100 degrees -> \"water\"\n",
        "- Greater than 100 degrees -> \"vapor\"\n"
      ],
      "metadata": {
        "id": "q_K9sYX-9rA1"
      }
    },
    {
      "cell_type": "code",
      "source": [],
      "metadata": {
        "id": "5tiyxFQRuYaL"
      },
      "execution_count": null,
      "outputs": []
    },
    {
      "cell_type": "markdown",
      "source": [
        "---"
      ],
      "metadata": {
        "id": "PRW-r1uH9W6y"
      }
    },
    {
      "cell_type": "markdown",
      "source": [
        "##<b>Homework:</b>\n",
        "\n",
        "Complete the CodingBat problems on the day5hw page. There are two required problems, but the other problems are more challenging.\n",
        "\n",
        "Link: https://codingbat.com/home/seanyuto@gmail.com/day5hw\n",
        "\n"
      ],
      "metadata": {
        "id": "4XkFqScS9W-X"
      }
    },
    {
      "cell_type": "markdown",
      "source": [
        "Hint for challenge problems: `len(str)` finds the length of a string, and `str[start:end:step]` can be used for slicing. When no arg is given, it defaults to 0, the end of the string, and step by 1\n",
        "\n",
        "```\n",
        "str1 = \"Hello, world!\"\n",
        "\n",
        "str1[:5] # returns \"Hello\"\n",
        "str1[7:] # returns \"world!\"\n",
        "str1[5:11:2] # returns \",wrd\"\n",
        "```"
      ],
      "metadata": {
        "id": "5-dbkXs2AEF2"
      }
    }
  ]
}
