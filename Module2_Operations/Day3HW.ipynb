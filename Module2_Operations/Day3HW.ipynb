{
  "nbformat": 4,
  "nbformat_minor": 0,
  "metadata": {
    "colab": {
      "provenance": [],
      "authorship_tag": "ABX9TyO+Qjv4spOyP2TqQRHCOTqx",
      "include_colab_link": true
    },
    "kernelspec": {
      "name": "python3",
      "display_name": "Python 3"
    },
    "language_info": {
      "name": "python"
    }
  },
  "cells": [
    {
      "cell_type": "markdown",
      "metadata": {
        "id": "view-in-github",
        "colab_type": "text"
      },
      "source": [
        "<a href=\"https://colab.research.google.com/github/Paperdasher/mypy/blob/main/Day3HW.ipynb\" target=\"_parent\"><img src=\"https://colab.research.google.com/assets/colab-badge.svg\" alt=\"Open In Colab\"/></a>"
      ]
    },
    {
      "cell_type": "markdown",
      "source": [
        "#<b>Day3 HW</b>"
      ],
      "metadata": {
        "id": "kDLJ6uAkciIW"
      }
    },
    {
      "cell_type": "code",
      "source": [
        "## DO NOT EDIT THIS BLOCK OF CODE!!!\n",
        "\n",
        "a = 20\n",
        "b = 5\n",
        "c = 3\n",
        "d = 4"
      ],
      "metadata": {
        "id": "iePhqLJJcxcn"
      },
      "execution_count": null,
      "outputs": []
    },
    {
      "cell_type": "markdown",
      "source": [
        "##Perform the following operations and write the results:\n",
        "\n"
      ],
      "metadata": {
        "id": "_AqW2JWQcxoE"
      }
    },
    {
      "cell_type": "markdown",
      "source": [
        "Hint: Save each problem's answer as a variable, then print the variable to check your results. This will help in later problems where it asks for operations using previous problems. Remember that variable names CANNOT start with a number.\n",
        "\n",
        "Suggestion: Use variable names such as prob1, prob2"
      ],
      "metadata": {
        "id": "nSOTE1zaeLKH"
      }
    },
    {
      "cell_type": "markdown",
      "source": [
        "<b>*MODEL: Add c and d.*</b>\n"
      ],
      "metadata": {
        "id": "yaY2A0eJdfuS"
      }
    },
    {
      "cell_type": "code",
      "source": [
        "model = c + d\n",
        "print(model)"
      ],
      "metadata": {
        "colab": {
          "base_uri": "https://localhost:8080/"
        },
        "id": "w6romw8JdgCR",
        "outputId": "7c3379b7-f70c-476a-9595-a5338bd3e20e"
      },
      "execution_count": null,
      "outputs": [
        {
          "output_type": "stream",
          "name": "stdout",
          "text": [
            "7\n"
          ]
        }
      ]
    },
    {
      "cell_type": "markdown",
      "source": [
        "1. Add a and b, then multiply the result by c."
      ],
      "metadata": {
        "id": "90xT2HIudemq"
      }
    },
    {
      "cell_type": "code",
      "source": [],
      "metadata": {
        "id": "c85EtPMndEE-"
      },
      "execution_count": null,
      "outputs": []
    },
    {
      "cell_type": "markdown",
      "source": [
        "2. Subtract d from a, then divide the result by b.\n",
        "x"
      ],
      "metadata": {
        "id": "rUsyY7lwdEOv"
      }
    },
    {
      "cell_type": "code",
      "source": [],
      "metadata": {
        "id": "-iRztV05dGW1"
      },
      "execution_count": null,
      "outputs": []
    },
    {
      "cell_type": "markdown",
      "source": [
        "3. Multiply c and d, then subtract a from the result.\n"
      ],
      "metadata": {
        "id": "nymxSi27dF5D"
      }
    },
    {
      "cell_type": "code",
      "source": [],
      "metadata": {
        "id": "SH2E7gAsdH1i"
      },
      "execution_count": null,
      "outputs": []
    },
    {
      "cell_type": "markdown",
      "source": [
        "4. Divide a by d, then add b to the result.\n"
      ],
      "metadata": {
        "id": "Vjln2dC5dIAu"
      }
    },
    {
      "cell_type": "code",
      "source": [],
      "metadata": {
        "id": "NWJJJN8LdJPg"
      },
      "execution_count": null,
      "outputs": []
    },
    {
      "cell_type": "markdown",
      "source": [
        "5. Compute the remainder when a is divided by c.\n"
      ],
      "metadata": {
        "id": "KrfO5URFdJfc"
      }
    },
    {
      "cell_type": "code",
      "source": [],
      "metadata": {
        "id": "E7pgpVIRdLjf"
      },
      "execution_count": null,
      "outputs": []
    },
    {
      "cell_type": "markdown",
      "source": [
        "6. Calculate the exponentiation of b raised to the power of d.\n"
      ],
      "metadata": {
        "id": "cmN2xpXCdLuD"
      }
    },
    {
      "cell_type": "code",
      "source": [],
      "metadata": {
        "id": "hfl_C64NdM5h"
      },
      "execution_count": null,
      "outputs": []
    },
    {
      "cell_type": "markdown",
      "source": [
        "7. Add the results of operations 1 and 3 together."
      ],
      "metadata": {
        "id": "GE23uMdhdNHi"
      }
    },
    {
      "cell_type": "code",
      "source": [],
      "metadata": {
        "id": "NZqCPG4zdNoC"
      },
      "execution_count": null,
      "outputs": []
    }
  ]
}
