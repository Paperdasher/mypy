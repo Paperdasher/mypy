{
  "nbformat": 4,
  "nbformat_minor": 0,
  "metadata": {
    "colab": {
      "provenance": [],
      "authorship_tag": "ABX9TyPm+2pP+34KLKUN8x6lQjb/",
      "include_colab_link": true
    },
    "kernelspec": {
      "name": "python3",
      "display_name": "Python 3"
    },
    "language_info": {
      "name": "python"
    }
  },
  "cells": [
    {
      "cell_type": "markdown",
      "metadata": {
        "id": "view-in-github",
        "colab_type": "text"
      },
      "source": [
        "<a href=\"https://colab.research.google.com/github/Paperdasher/mypy/blob/main/Day4.ipynb\" target=\"_parent\"><img src=\"https://colab.research.google.com/assets/colab-badge.svg\" alt=\"Open In Colab\"/></a>"
      ]
    },
    {
      "cell_type": "markdown",
      "source": [
        "#<b>Day 4: Comparison Operators</b>"
      ],
      "metadata": {
        "id": "r3nqF3orIE9Z"
      }
    },
    {
      "cell_type": "markdown",
      "source": [
        "##<b>Comparison Operators</b>\n",
        "\n",
        "- Equal: ==\n",
        "- Not equal: !=\n",
        "- Greater than: >\n",
        "- Less than: <\n",
        "- Greater than or equal to: >=\n",
        "- Less than or equal to: <="
      ],
      "metadata": {
        "id": "jcP9mqPhIE_z"
      }
    },
    {
      "cell_type": "markdown",
      "source": [
        "Always remember that the <b>= comes AFTER the character</b>. So for assignment and comparison operators, = is always the last character.\n",
        "\n",
        "Comparison operators are most frequently used in if statements. They return a boolean value.\n",
        "\n",
        "In other languages, they may be embedded in a for loop as the boolean condition. In Python, it will mostly be used in the while loop in the cases of iterating."
      ],
      "metadata": {
        "id": "7DbU6O3PIFCJ"
      }
    },
    {
      "cell_type": "markdown",
      "source": [
        "####Example: What should be the value of each comparison?\n",
        "\n",
        "(Hint: Comparison operations are ALWAYS resulting in a boolean value, since they evaluate whether the lefthand side and the righthand side fits the condition given by the comparison operator)\n",
        "\n",
        "```\n",
        "a = -4\n",
        "b = 2.5\n",
        "c = 4\n",
        "d = \"right\"\n",
        "e = \"Right\"\n",
        "\n",
        "a == b\n",
        "b != c\n",
        "a == -1 * c\n",
        "d == e\n",
        "```"
      ],
      "metadata": {
        "id": "TWXGidP_JG3U"
      }
    },
    {
      "cell_type": "markdown",
      "source": [
        "##<b>Logical Operators</b>"
      ],
      "metadata": {
        "id": "fbCirw1ns0M5"
      }
    },
    {
      "cell_type": "markdown",
      "source": [
        "At times, one may want to have multiple conditions be satisfied. These conditions of increased complexity can be achieved using <b>logical operators</b>. They are as follows.\n",
        "\n",
        "- and: returns true if <b>both</b> operands are true\n",
        "- or: returns true if <b>either</b> of the operands is true\n",
        "- not: returns true if the operand is <b>false</b>"
      ],
      "metadata": {
        "id": "azbfqFGFs4Ox"
      }
    },
    {
      "cell_type": "markdown",
      "source": [
        "####Example: Given the following conditions, what is the value of each statement?\n",
        "\n",
        "```\n",
        "a = True\n",
        "b = False\n",
        "\n",
        "1. a and b\n",
        "2. not (a and b)\n",
        "3. a or b\n",
        "4. not b\n",
        "5. (not a) and b\n",
        "```"
      ],
      "metadata": {
        "id": "rqgq2Jkns4ME"
      }
    },
    {
      "cell_type": "markdown",
      "source": [
        "Answer:\n",
        "1. <b>False:</b> b is false, therefore it does not satisfy the requirement of both being true\n",
        "2. <b>True:</b> a and b is false, therefore the inverse is true\n",
        "3. <b>True:</b> since a is true, at least one of the operands is true\n",
        "4. <b>True:</b> the inverse of false is true\n",
        "5. <b>False:</b> not a is false, false and false is false because neither value is true."
      ],
      "metadata": {
        "id": "U6HPGBkqs4Be"
      }
    },
    {
      "cell_type": "markdown",
      "source": [
        "---"
      ],
      "metadata": {
        "id": "bf1MOBAJJETp"
      }
    },
    {
      "cell_type": "markdown",
      "source": [
        "##<b>Exercises:</b>\n",
        "\n",
        "Follow the directions of each example and code in the given code block for each problem."
      ],
      "metadata": {
        "id": "07NHF6MdIFEr"
      }
    },
    {
      "cell_type": "markdown",
      "source": [
        "1. Order the following values in order of least to greatest, using comparison operators on each value.\n",
        "\n",
        "3²⁵, 5¹⁶, 12⁴\n",
        "\n",
        "*Hint: Let each value be a, b, and c. If a > b and c > a, then b has to be the smallest value.*"
      ],
      "metadata": {
        "id": "Dhd_EPL0IFHW"
      }
    },
    {
      "cell_type": "code",
      "source": [],
      "metadata": {
        "id": "cYg_V1zoKlK-"
      },
      "execution_count": null,
      "outputs": []
    },
    {
      "cell_type": "markdown",
      "source": [
        "2. Given\n",
        "\n",
        "```\n",
        "a = 50\n",
        "b = 1\n",
        "c = -40\n",
        "```\n",
        "\n",
        "What is the value of `c > b and b < a`?"
      ],
      "metadata": {
        "id": "fdGHnkJBKkmj"
      }
    },
    {
      "cell_type": "markdown",
      "source": [
        "---"
      ],
      "metadata": {
        "id": "6Guw-AJEIFKH"
      }
    },
    {
      "cell_type": "markdown",
      "source": [
        "##<b>Homework:</b>\n",
        "\n",
        "####Complete the CodingBat assignment. <b>REMEMBER TO LOGIN!!!</b>\n",
        "\n",
        "Walkthrough: Create an account if not already, and go to Prefs. Under teacher share, enter seanyuto@gmail.com and press share so that I see your progress.\n",
        "\n",
        "####Link: https://codingbat.com/home/seanyuto@gmail.com/day4hw\n",
        "\n"
      ],
      "metadata": {
        "id": "uZQSVEi1IFMb"
      }
    }
  ]
}
