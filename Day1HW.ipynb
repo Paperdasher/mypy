{
  "nbformat": 4,
  "nbformat_minor": 0,
  "metadata": {
    "colab": {
      "provenance": [],
      "authorship_tag": "ABX9TyNX+FtS8ttCHp0Iv94ydziV",
      "include_colab_link": true
    },
    "kernelspec": {
      "name": "python3",
      "display_name": "Python 3"
    },
    "language_info": {
      "name": "python"
    }
  },
  "cells": [
    {
      "cell_type": "markdown",
      "metadata": {
        "id": "view-in-github",
        "colab_type": "text"
      },
      "source": [
        "<a href=\"https://colab.research.google.com/github/Paperdasher/mypy/blob/main/Day1HW.ipynb\" target=\"_parent\"><img src=\"https://colab.research.google.com/assets/colab-badge.svg\" alt=\"Open In Colab\"/></a>"
      ]
    },
    {
      "cell_type": "markdown",
      "source": [
        "#**Day1 HW**\n",
        "\n",
        "###Create a variable of your favorite color and number. Print these variables out.\n",
        "\n",
        "Note: Jupyter Notebook automatically prints strings and statements, even without a print statement. For our purposes, you MUST use print statements in order to print, otherwise will be deemed incorrect."
      ],
      "metadata": {
        "id": "OgmmjQ14K3K4"
      }
    },
    {
      "cell_type": "markdown",
      "source": [
        "Color"
      ],
      "metadata": {
        "id": "vfgtcyi8LXpc"
      }
    },
    {
      "cell_type": "code",
      "source": [
        "color = \"red\"\n",
        "print(color)"
      ],
      "metadata": {
        "id": "d2VAzt_ILWWj",
        "colab": {
          "base_uri": "https://localhost:8080/"
        },
        "outputId": "639456af-4455-4a80-a4c9-75f408072f65"
      },
      "execution_count": null,
      "outputs": [
        {
          "output_type": "stream",
          "name": "stdout",
          "text": [
            "red\n"
          ]
        }
      ]
    },
    {
      "cell_type": "markdown",
      "source": [
        "Number"
      ],
      "metadata": {
        "id": "UHDkXmOBLbn5"
      }
    },
    {
      "cell_type": "code",
      "source": [
        "fav_number = 1.5\n",
        "print(fav_number)"
      ],
      "metadata": {
        "id": "XpieoebpLcz1",
        "colab": {
          "base_uri": "https://localhost:8080/"
        },
        "outputId": "3b1230fa-885c-4413-80c1-7b53850b6a79"
      },
      "execution_count": null,
      "outputs": [
        {
          "output_type": "stream",
          "name": "stdout",
          "text": [
            "1.5\n"
          ]
        }
      ]
    }
  ]
}