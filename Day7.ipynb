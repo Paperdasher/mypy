{
  "nbformat": 4,
  "nbformat_minor": 0,
  "metadata": {
    "colab": {
      "provenance": [],
      "authorship_tag": "ABX9TyOS+o1fTPfSbsoCMsLyJ7ei",
      "include_colab_link": true
    },
    "kernelspec": {
      "name": "python3",
      "display_name": "Python 3"
    },
    "language_info": {
      "name": "python"
    }
  },
  "cells": [
    {
      "cell_type": "markdown",
      "metadata": {
        "id": "view-in-github",
        "colab_type": "text"
      },
      "source": [
        "<a href=\"https://colab.research.google.com/github/Paperdasher/mypy/blob/main/Day7.ipynb\" target=\"_parent\"><img src=\"https://colab.research.google.com/assets/colab-badge.svg\" alt=\"Open In Colab\"/></a>"
      ]
    },
    {
      "cell_type": "markdown",
      "source": [
        "#<b>Day 7: Practice with Conditionals</b>"
      ],
      "metadata": {
        "id": "It-_gDMMBsb7"
      }
    },
    {
      "cell_type": "markdown",
      "source": [
        "Practice working with conditionals using the given problems.Delete the `pass` keyword as you work on each function and write your code."
      ],
      "metadata": {
        "id": "bnph3iu1Bvvp"
      }
    },
    {
      "cell_type": "markdown",
      "source": [
        "1. Write a function called `can_i_ride` that accepts a value called `height` This function helps ride attendants decide if a person can ride a rollercoaster.\n",
        "\n",
        "- Under 40 - “Cannot ride”\n",
        "- Between 40 and 48 - “With an adult”\n",
        "- Over 48 - “Can ride”\n",
        "\n",
        "Write three test cases to prove that the function works."
      ],
      "metadata": {
        "id": "5DcuSV1yBv6h"
      }
    },
    {
      "cell_type": "code",
      "source": [],
      "metadata": {
        "id": "5RmIQnIECqhG"
      },
      "execution_count": null,
      "outputs": []
    },
    {
      "cell_type": "markdown",
      "source": [
        "2. A police officer stops you. The return results are the following: 0 = no ticket, 1 = small ticket, 2 = big ticket\n",
        "If speed is 60 or less, the result is 0. If the speed is between 61 and 80 inclusive, the result is 1. If speed is 81 or more, the result is 2. Unless it is your birthday -- on that day, you can be 5 higher in all cases.\n",
        "\n",
        "- caught_speeding(60, False) -> 0\n",
        "- caught_speeding(65, False) -> 1\n",
        "- caught_speeding(65, True) -> 0\n",
        "\n",
        "Test by copying code into CodingBat problem: https://codingbat.com/prob/p137202"
      ],
      "metadata": {
        "id": "MLYyu2Bvjhjq"
      }
    },
    {
      "cell_type": "code",
      "source": [
        "def caught_speeding(speed, is_birthday):\n",
        "  pass"
      ],
      "metadata": {
        "id": "sIJENuFljhuH"
      },
      "execution_count": null,
      "outputs": []
    },
    {
      "cell_type": "markdown",
      "source": [
        "3. The objective of this problem is to make a row of bricks that is goal inches long. You are given small bricks(1 inch) and big bricks(5 inches). Return `True` if it is possible to create the goal by choosing from the blocks given.\n",
        "\n",
        "Test by copying code into CodingBat problem: https://codingbat.com/prob/p118406"
      ],
      "metadata": {
        "id": "pQxKDif2jh1d"
      }
    },
    {
      "cell_type": "code",
      "source": [
        "def make_bricks(small, big, goal):\n",
        "  pass"
      ],
      "metadata": {
        "id": "skAvgncgjh8B"
      },
      "execution_count": null,
      "outputs": []
    },
    {
      "cell_type": "markdown",
      "source": [
        "4. Given ints a, b, c, return their sum. However, if one of the values is the same as another value, they do not count towards the sum.\n",
        "\n",
        "- lone_sum(1, 2, 3) -> 6\n",
        "- lone_sum(3, 2, 3) -> 2\n",
        "- lone_sum(3, 3, 3) -> 0\n",
        "\n",
        "Test by copying code into CodingBat problem: https://codingbat.com/prob/p143951"
      ],
      "metadata": {
        "id": "dcSFWUkKjic2"
      }
    },
    {
      "cell_type": "code",
      "source": [
        "def lone_sum(a, b, c):\n",
        "  pass"
      ],
      "metadata": {
        "id": "XJEGEVxSjiiO"
      },
      "execution_count": null,
      "outputs": []
    },
    {
      "cell_type": "markdown",
      "source": [
        "5. Given 3 int values, a b c, return their sum. However, if one of the values is 13 then it does not count towards the sum and values to its right do not count. So for example, if b is 13, then both b and c do not count.\n",
        "\n",
        "- lucky_sum(1, 2, 3) → 6\n",
        "- lucky_sum(1, 2, 13) → 3\n",
        "- lucky_sum(1, 13, 3) → 1\n",
        "\n",
        "Test by copying code into CodingBat problem: https://codingbat.com/prob/p107863"
      ],
      "metadata": {
        "id": "Ed3hi0MV-r_Y"
      }
    },
    {
      "cell_type": "code",
      "source": [
        "def lucky_sum(a, b, c):\n",
        "  pass"
      ],
      "metadata": {
        "id": "vrMli60r-s0V"
      },
      "execution_count": null,
      "outputs": []
    },
    {
      "cell_type": "markdown",
      "source": [
        "6. Given 3 int values, a b c, return their sum. However, if any of the values is a teen -- in the range 13..19 inclusive -- then that value counts as 0, except 15 and 16 do not count as a teens. Write a separate helper `def fix_teen(n)` that takes in an int value and returns that value fixed for the teen rule. In this way, you avoid repeating the teen code 3 times (i.e. \"decomposition\").\n",
        "\n",
        "\n",
        "- no_teen_sum(1, 2, 3) → 6\n",
        "- no_teen_sum(2, 13, 1) → 3\n",
        "- no_teen_sum(2, 1, 14) → 3\n",
        "\n",
        "Test by copying code into CodingBat problem(include helper function as well): https://codingbat.com/prob/p100347"
      ],
      "metadata": {
        "id": "MvrocqOw-s7r"
      }
    },
    {
      "cell_type": "code",
      "source": [
        "def no_teen_sum(a, b, c):\n",
        "  pass\n",
        "\n",
        "def fix_teen(n):\n",
        "  pass"
      ],
      "metadata": {
        "id": "Vh4qiY28-tAo"
      },
      "execution_count": null,
      "outputs": []
    },
    {
      "cell_type": "markdown",
      "source": [
        "---"
      ],
      "metadata": {
        "id": "KEu-Bgc9Bv-g"
      }
    },
    {
      "cell_type": "markdown",
      "source": [
        "##<b>Homework:</b>\n",
        "\n",
        "Complete the following CodingBat problems on the custon page.\n",
        "\n",
        "Link: https://codingbat.com/home/seanyuto@gmail.com/day7hw"
      ],
      "metadata": {
        "id": "sYnqE2_3BwBH"
      }
    }
  ]
}