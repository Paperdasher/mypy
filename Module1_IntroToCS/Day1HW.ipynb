{
  "nbformat": 4,
  "nbformat_minor": 0,
  "metadata": {
    "colab": {
      "provenance": [],
      "authorship_tag": "ABX9TyPqbLNTY52yzZ8lyFUf88Od",
      "include_colab_link": true
    },
    "kernelspec": {
      "name": "python3",
      "display_name": "Python 3"
    },
    "language_info": {
      "name": "python"
    }
  },
  "cells": [
    {
      "cell_type": "markdown",
      "metadata": {
        "id": "view-in-github",
        "colab_type": "text"
      },
      "source": [
        "<a href=\"https://colab.research.google.com/github/Paperdasher/mypy/blob/main/Day1HW.ipynb\" target=\"_parent\"><img src=\"https://colab.research.google.com/assets/colab-badge.svg\" alt=\"Open In Colab\"/></a>"
      ]
    },
    {
      "cell_type": "markdown",
      "source": [
        "#**Day1 HW**\n",
        "\n",
        "###Create a variable of your favorite color and number. Print these variables out.\n",
        "\n",
        "Note: Jupyter Notebook automatically prints strings and statements, even without a print statement. For our purposes, you MUST use print statements in order to print, otherwise will be deemed incorrect."
      ],
      "metadata": {
        "id": "OgmmjQ14K3K4"
      }
    },
    {
      "cell_type": "markdown",
      "source": [
        "Color"
      ],
      "metadata": {
        "id": "vfgtcyi8LXpc"
      }
    },
    {
      "cell_type": "code",
      "source": [],
      "metadata": {
        "id": "d2VAzt_ILWWj"
      },
      "execution_count": null,
      "outputs": []
    },
    {
      "cell_type": "markdown",
      "source": [
        "Number"
      ],
      "metadata": {
        "id": "UHDkXmOBLbn5"
      }
    },
    {
      "cell_type": "code",
      "source": [],
      "metadata": {
        "id": "XpieoebpLcz1"
      },
      "execution_count": null,
      "outputs": []
    }
  ]
}
