{
  "nbformat": 4,
  "nbformat_minor": 0,
  "metadata": {
    "colab": {
      "provenance": [],
      "authorship_tag": "ABX9TyMlp91XhXsnCtClORJaazsB",
      "include_colab_link": true
    },
    "kernelspec": {
      "name": "python3",
      "display_name": "Python 3"
    },
    "language_info": {
      "name": "python"
    }
  },
  "cells": [
    {
      "cell_type": "markdown",
      "metadata": {
        "id": "view-in-github",
        "colab_type": "text"
      },
      "source": [
        "<a href=\"https://colab.research.google.com/github/Paperdasher/mypy/blob/main/Day1.ipynb\" target=\"_parent\"><img src=\"https://colab.research.google.com/assets/colab-badge.svg\" alt=\"Open In Colab\"/></a>"
      ]
    },
    {
      "cell_type": "markdown",
      "source": [
        "#**Day1: Intro and Data Types**\n",
        "W3Schools Explanation: https://www.w3schools.com/python/python_variables.asp\n",
        "\n"
      ],
      "metadata": {
        "id": "9tMG6f_9GAvK"
      }
    },
    {
      "cell_type": "code",
      "source": [
        "## As you can notice, this is a comment and will not run when called\n",
        "## Anything after the # symbol is considered a comment for that line\n",
        "\n",
        "\"\"\"\n",
        "This is a multi-line comment. Python ignores literal strings that are not assigned to a variable.\n",
        "You can find more info about comments at this link: https://www.w3schools.com/python/python_comments.asp\n",
        "In this special platform called a Jupyter Notebook, it prints the string, but this won't happen in a real Python IDE.\n",
        "\"\"\""
      ],
      "metadata": {
        "colab": {
          "base_uri": "https://localhost:8080/",
          "height": 53
        },
        "id": "fp8k_lR1GRhQ",
        "outputId": "807d03b8-7020-4d1f-8b19-f9faadaa2cda"
      },
      "execution_count": null,
      "outputs": [
        {
          "output_type": "execute_result",
          "data": {
            "text/plain": [
              "\"\\nThis is a multi-line comment. Python ignores literal strings that are not assigned to a variable. \\nYou can find more info about comments at this link: https://www.w3schools.com/python/python_comments.asp\\nIn this special platform called a Jupyter Notebook, it prints the string, but this won't happen in a real Python IDE.\\n\""
            ],
            "application/vnd.google.colaboratory.intrinsic+json": {
              "type": "string"
            }
          },
          "metadata": {},
          "execution_count": 4
        }
      ]
    },
    {
      "cell_type": "markdown",
      "source": [
        "In Python, there are multiple data types. The most common ones are:\n",
        "- str(String)\n",
        "- int(Integer)\n",
        "- float(Decimal)\n",
        "- bool(Boolean)\n",
        "- list\n",
        "- dict(Dictionary)\n",
        "- range\n"
      ],
      "metadata": {
        "id": "h3Huu2EsGSoh"
      }
    },
    {
      "cell_type": "markdown",
      "source": [
        "Variables have variable names. Most languages accept similar standards of names.\n",
        "- Start with letter or underscore\n",
        "- Cannot start a name with a number -> cannot have 9students = \"students\"\n",
        "- Only contain alpha-numeric characters and underscores(A-z, 0-9, _) -> no name such as yay! = \"yay!\"\n",
        "- Case-sensitive -> Hello not = to hello\n",
        "- No keywords(bool, int, def, etc.) -> cannot be: bool = 3, def = \"wrong\", int = 3\n",
        "\n",
        "When assigning variable names, format it as variable_name = variable_value\n",
        "\n",
        "Ex. sport = \"basketball\", year = 2024\n",
        "\n",
        "\n",
        "## Print Statements\n",
        "\n",
        "Printing! The only way the system outputs something we can see is through the built-in print() function.\n",
        "This allows us to output whatever is inside the ().\n",
        "Note: Trying to print a variable without defining it will result in an error.\n",
        "\n",
        "Ex.\n",
        "```\n",
        "# Start of code\n",
        "print(f)\n",
        "```\n",
        "will result in an error.\n"
      ],
      "metadata": {
        "id": "9VPLpxLRGy1q"
      }
    },
    {
      "cell_type": "code",
      "source": [
        "print(\"f\") # will be considered as a string and therefore output f\n",
        "print(123) # will print the int 123\n",
        "print(123.05) # will print the float 123.05\n",
        "print(bool(0)) # will print False, this is something called Type Casting."
      ],
      "metadata": {
        "colab": {
          "base_uri": "https://localhost:8080/"
        },
        "id": "xK73ssmYHAyN",
        "outputId": "a9ba9b41-4f8c-4f6e-91cb-3578669c7d59"
      },
      "execution_count": null,
      "outputs": [
        {
          "output_type": "stream",
          "name": "stdout",
          "text": [
            "f\n",
            "123\n",
            "123.05\n",
            "False\n"
          ]
        }
      ]
    },
    {
      "cell_type": "markdown",
      "source": [
        "## str\n",
        "\n",
        "A String is a type where any character can be written inside a \"\" or a ''. It's like a conversation, anything can be inside of it.\n",
        "We can have a string of numbers \"12345\" or a word \"Hello User!\" or a combination of both \"Hello User 12345!\"\n",
        "Those are some of the glimpse of this data type. We can print literal strings using print().\n",
        "\n",
        "PYTHON IS CASE-SENSITIVE!!! The string \"Hello\" is not the same as the string \"hello\"\n",
        "\n",
        "Multi-line strings can be written using a triple quotation of either type \" or '.\n",
        "\n",
        "\n"
      ],
      "metadata": {
        "id": "n1f9AZh8HH2f"
      }
    },
    {
      "cell_type": "markdown",
      "source": [
        "*Try creating a string variable, and printing it.*"
      ],
      "metadata": {
        "id": "cTHjNR1aHTvk"
      }
    },
    {
      "cell_type": "code",
      "source": [],
      "metadata": {
        "id": "scZuHQ6NHVv8"
      },
      "execution_count": null,
      "outputs": []
    },
    {
      "cell_type": "markdown",
      "source": [
        "Each character in the string has a property called an \"index\". This means that each character can be referenced using its index.\n",
        "\n",
        "In the string \"Hello!\" the H is considered index 0. We always start with the index 0, not 1.\n",
        "So H is 0, e is 1, ll is 3 and 4, o is 5, ! is index 6.\n",
        "\n",
        "We can use indexes to also \"slice\" strings, meaning we take a certain part of the string we'd like.\n",
        "We can use the [] to slice, not just for strings but for data structures as well. We'll go over that later.\n",
        "For now, know that the variable[start(default 0):end(not including)] slices the string. Use the indexes to determine where to start and end.\n",
        "Also know we can negative index, which means that the last character is -1 and descends going left. Negative indexing starts at -1, not 0.\n",
        "In the case of \"Hello!\", ! is also -1, o is -2, and so on."
      ],
      "metadata": {
        "id": "rgXWayeiHAhj"
      }
    },
    {
      "cell_type": "markdown",
      "source": [
        "*Try to slice any three characters of a string and printing. Do the same but with negative indexing as well.*"
      ],
      "metadata": {
        "id": "0W6L1Sh-H4kT"
      }
    },
    {
      "cell_type": "code",
      "source": [],
      "metadata": {
        "id": "2tLG0IRlH46q"
      },
      "execution_count": null,
      "outputs": []
    },
    {
      "cell_type": "markdown",
      "source": [
        "We can also directly compare str using the == operator to see if they are equal or not.\n",
        "We can add strings as well, using concatenation. For example, \"hello\" + \" world\" would become \"hello world\"\n",
        "Concatenation only works with strings in Python though, unlike other languages such as Java."
      ],
      "metadata": {
        "id": "wHtdtpJnH5Km"
      }
    },
    {
      "cell_type": "code",
      "source": [
        "print(\"abc\" == \"ABC\") # example of Python being case-sensitive\n",
        "print('I Love Python!' == \"I Love Python!\") # since the \"\" and '' are considered the same in terms of a string, they will be equal\n",
        "print(\"Python \" + \"is\" + \" fun\") # would print \"Python is fun\", will add the way written so spaces need to be added accordingly\n",
        "print(\"My\" + \"funny\" + \"friend\") # would print \"Myfunnyfried\" since there are no spaces in the strings"
      ],
      "metadata": {
        "colab": {
          "base_uri": "https://localhost:8080/"
        },
        "id": "gd2upTmaIDq4",
        "outputId": "2df5e769-bc9e-4f53-9286-8e1541bab924"
      },
      "execution_count": null,
      "outputs": [
        {
          "output_type": "stream",
          "name": "stdout",
          "text": [
            "False\n",
            "True\n",
            "Python is fun\n",
            "Myfunnyfriend\n"
          ]
        }
      ]
    },
    {
      "cell_type": "markdown",
      "source": [
        "## float\n",
        "A float number is like all other numbers, where we have decimal values. It doesn't have to include decimals, but it encompasses all real numbers so that we can do math\n",
        "that isn't restricted to integers."
      ],
      "metadata": {
        "id": "McOB94IfICy9"
      }
    },
    {
      "cell_type": "markdown",
      "source": [
        "*Try creating a float variable, and printing it*"
      ],
      "metadata": {
        "id": "boLLFHRkICes"
      }
    },
    {
      "cell_type": "code",
      "source": [],
      "metadata": {
        "id": "fGYMc8EXICLc"
      },
      "execution_count": null,
      "outputs": []
    },
    {
      "cell_type": "markdown",
      "source": [
        "---"
      ],
      "metadata": {
        "id": "_mDcIsmIIZON"
      }
    },
    {
      "cell_type": "markdown",
      "source": [
        "##**Homework**\n",
        "\n",
        "Usually, homework is a coding using the concepts we go over in session. These are short snippets to help you practice on your own.\n",
        "Homework is usually in the following four forms:\n",
        "- Homework file\n",
        "- Open-ended question, question to think about leading to next session\n",
        "- Finishing a project\n",
        "- CodingBat practice\n",
        "\n",
        "For most homeworks, there will be a separate homework file named DateHW.py. For example, today's homework is in this folder named Day1HW.py.\n",
        "Please complete these homeworks in the designated homework file so it is clear where you have completed the task.\n",
        "It also helps when you do print statements so that material from session isn't included in the printed response.\n",
        "\n",
        "For open-ended questions, think about the answer and possible ways of tackling the problem.\n",
        "There is no \"submission\" of this type of homework, rather it is a way for you to keep pondering about CS and think by yourself before presented an algorithm or method.\n",
        "This helps you better understand concepts, and makes you a better problem-solver, an essential skill in CS.\n",
        "\n",
        "There will be several projects throughout the term. Projects are a wider scope of material. For instance, there is a project in a couple of lessons that covers the whole second module.\n",
        "This is a way to better apply a broader idea to practical code, not just snippets for homework to check each individual idea. Applying concepts together is necessary for mastery.\n",
        "I will give you session time to work on these projects. Since I am giving you session time, I want to help you kick start the project and make sure you're on the right track.\n",
        "I will only give one session of time per project, so any questions outside of session must be asked through email.\n",
        "**PLEASE EMAIL ME ASAP WHENEVER YOU HAVE A QUESTION**, I will NOT be periodically checking files through the week to see your progress.\n",
        "\n",
        "CodingBat practice is a great way to tackle algorithm problems and test your proficiency. Usually CodingBat problems need you to return, not print. When you press go, it will test for you.\n",
        "When stuck, *write out your process on paper in forms of English words and diagrams.* This will help visualize rather than think in Python terms.\n",
        "***PLEASE REMEMBER TO LOG IN BEFORE WORKING!!!*** If you do not login, your progress will NOT be saved, and I won't see that you've completed the problems.\n",
        "\n",
        "\n",
        "I will check homework right before session.\n",
        "**If you would like to go over something, please let me know *AT THE START OF SESSION*.** If everything is correct, I will assume that you understand and not spend time reviewing."
      ],
      "metadata": {
        "id": "f1Vef9n8IUbq"
      }
    },
    {
      "cell_type": "markdown",
      "source": [
        "## **HW: Create a variable of favorite color, number. Print the variables out.**"
      ],
      "metadata": {
        "id": "2f-MRTZkJaQS"
      }
    }
  ]
}
