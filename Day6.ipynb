{
  "nbformat": 4,
  "nbformat_minor": 0,
  "metadata": {
    "colab": {
      "provenance": [],
      "authorship_tag": "ABX9TyO6vIDslDheLWRswpJq41n7",
      "include_colab_link": true
    },
    "kernelspec": {
      "name": "python3",
      "display_name": "Python 3"
    },
    "language_info": {
      "name": "python"
    }
  },
  "cells": [
    {
      "cell_type": "markdown",
      "metadata": {
        "id": "view-in-github",
        "colab_type": "text"
      },
      "source": [
        "<a href=\"https://colab.research.google.com/github/Paperdasher/mypy/blob/main/Day6.ipynb\" target=\"_parent\"><img src=\"https://colab.research.google.com/assets/colab-badge.svg\" alt=\"Open In Colab\"/></a>"
      ]
    },
    {
      "cell_type": "markdown",
      "source": [
        "#<b>Day 6: If, elif, else statements</b>"
      ],
      "metadata": {
        "id": "rTByWTdfjOfQ"
      }
    },
    {
      "cell_type": "markdown",
      "source": [
        "##<b>Review:</b>"
      ],
      "metadata": {
        "id": "k_fojwFojX4A"
      }
    },
    {
      "cell_type": "markdown",
      "source": [
        "We previously learned that `=` was an <b>*assignment operator*</b>, meaning it assigns a value to another.\n",
        "\n",
        "These assign a <b>variable</b> to a value, or another variable. Assignments can occur for variables set to the same data type.\n",
        "```\n",
        "a = 100\n",
        "b = a\n",
        "c = b + 10\n",
        "d = c - 15\n",
        "```\n",
        "We also reviewed that `==` was an <b>*comparison operator*</b>.\n",
        "What will the following output?\n",
        "\n",
        "```\n",
        "b == a\n",
        "b != a\n",
        "c >= d\n",
        "a < c\n",
        "```\n",
        "\n",
        "---\n"
      ],
      "metadata": {
        "id": "zEZNRto7koD6"
      }
    },
    {
      "cell_type": "markdown",
      "source": [
        "##<b>If-Statements</b>"
      ],
      "metadata": {
        "id": "yyo50snxkn2I"
      }
    },
    {
      "cell_type": "markdown",
      "source": [
        "If it is raining outside, what do you do? Usually, a person may say they would bring an umbrella with them. IF it is raining, THEN they will bring an umbrella.\n",
        "\n",
        "Another example: say you're at the supermarket thinking about tonight's dinner. <b>IF</b> steak is on sale, <b>THEN</b> we will have steak tonight.\n",
        "\n",
        "These follows the structure \"If (condition), then (action).\" The condition can be thought of as a boolean, since asking if (blank) can be thought of as a short-hand version of \"if (blank) is true\", which warrants a True or False response."
      ],
      "metadata": {
        "id": "uNQ2xngi_zsm"
      }
    },
    {
      "cell_type": "markdown",
      "source": [
        "Coding is similar. To do actions given a condition, we can use an <b>if-statement</b>. An if-statement allows to determine whether or not to do operations inside of the block. We give the condition after the if to create the first part of a \"if-then\" statement. \"If (condition):\" then execute this action.\n",
        "\n",
        "```\n",
        "if boolean:\n",
        "  ##implementation of set of operations, idea of \"then\" segment of \"if (condition), then (action)\"##\n",
        "```\n",
        "\n",
        "Example:\n",
        "```\n",
        "if a == b:\n",
        "  print(a)\n",
        "```"
      ],
      "metadata": {
        "id": "t3LVG0ndkn8W"
      }
    },
    {
      "cell_type": "markdown",
      "source": [
        "Usually, one would like to do a different operation or set of actions if the comparison/boolean is false. We may use an <b>else</b> or <b>else-if(elif)</b> statements. These follow an if-statement to have set of steps to follow based on booleans. Else statements are the very last statement of an if-statement sequence. Elif statements are following if-statements to do an action if the previous if-statement is false.\n",
        "\n",
        "```\n",
        "if boolean:\n",
        "  ## implementation ##\n",
        "elif boolean:\n",
        "  ## implementation ##\n",
        "else:\n",
        "  ## implementation ##\n",
        "```\n",
        "\n",
        "It is not required to have an else statement after an if or elif statement, and it depends on context. If all the other if/elif statements return and terminate the function, then there is no harm in not having an else statement as your intended items to \"catch\" have already been tested. But if you would like to perform a certain action in those statements and still continue the program, making sure having an else statement can avoid performing an operation on all cases instead of the else cases.\n",
        "\n",
        "\n",
        "See the following example for implementing conditions given in a problem to an appropriate solution.\n"
      ],
      "metadata": {
        "id": "cIsk5GAmknnr"
      }
    },
    {
      "cell_type": "markdown",
      "source": [
        "Sample problem: Create a function to test whether someone is speeding and to give a ticket. The following are the conditions and the appropriate responses. All responses should be in the form of a string, indicating the desired message.\n",
        "- Travelling at over 10mph of speed limit: Give a ticket\n",
        "- Travelling within 10mph over of speed limit: Warn the driver of them being over the speed limit, and a possible ticket\n",
        "- Travelling under the speed limit: Compliment them for following road safety."
      ],
      "metadata": {
        "id": "ZmviuVhom2jS"
      }
    },
    {
      "cell_type": "markdown",
      "source": [
        "\n",
        "\n",
        "```\n",
        "def speeding(speedlim, speed):\n",
        "  if speed >= speedlim + 10:\n",
        "    return \"You got a ticket for speeding!\"\n",
        "  elif speed < speedlim + 10 and speed > speedlim:\n",
        "    return \"Be careful, you're speeding. You might get a ticket.\"\n",
        "  return \"Good job, you're driving safely!\"\n",
        "\n",
        "  ## the above has no else. It can also be written as...\n",
        "  else:\n",
        "    return \"Good job, you're driving safely!\"\n",
        "```\n",
        "\n",
        "In this case, it wouldn't matter if there was an else or not since all other cases would terminate at their respective if/elif blocks. But if it was a print statement, then it would be necessary to have the else statement to avoid printing the last message for all cases.\n",
        "\n",
        "```\n",
        "def speeding(speedlim, speed):\n",
        "  if speed >= speedlim + 10:\n",
        "    print(\"You got a ticket for speeding!\")\n",
        "  elif speed < speedlim + 10 and speed > speedlim:\n",
        "    print(\"Be careful, you're speeding. You might get a ticket.\")\n",
        "  else:\n",
        "    print(\"Good job, you're driving safely!\")\n",
        "```"
      ],
      "metadata": {
        "id": "5da6KTK7mw-d"
      }
    },
    {
      "cell_type": "markdown",
      "source": [
        "---"
      ],
      "metadata": {
        "id": "vyFCkk9HkiI-"
      }
    },
    {
      "cell_type": "markdown",
      "source": [
        "\n",
        "##<b>Exercise:</b>\n",
        "\n",
        "\n"
      ],
      "metadata": {
        "id": "LufgdNOZjXvt"
      }
    },
    {
      "cell_type": "markdown",
      "source": [
        "1. Make a function that takes in a number and if it is not greater than 10, add 2 to the number. If the number is still not greater than 10, return false. Otherwise true."
      ],
      "metadata": {
        "id": "LXsjk8Ivkcct"
      }
    },
    {
      "cell_type": "code",
      "source": [],
      "metadata": {
        "id": "BlFJB_Dnkfu5"
      },
      "execution_count": null,
      "outputs": []
    },
    {
      "cell_type": "markdown",
      "source": [
        "2. If a string contains \"ing\", return \"present participle\"\n",
        "\n",
        "Hint: `_ in (set)` checks if a string is in another string. Ex. `\"o\" in \"school\"`\n",
        "\n",
        "Can also use negative string slicing"
      ],
      "metadata": {
        "id": "c1gJAaOGkb6k"
      }
    },
    {
      "cell_type": "code",
      "source": [],
      "metadata": {
        "id": "_i33gi5FkgZs"
      },
      "execution_count": null,
      "outputs": []
    },
    {
      "cell_type": "markdown",
      "source": [
        "---"
      ],
      "metadata": {
        "id": "NKKuY8dXjXgK"
      }
    },
    {
      "cell_type": "markdown",
      "source": [
        "##<b>Homework: </b>\n",
        "1. Complete CodingBat problems in custom page:\n",
        "https://codingbat.com/home/seanyuto@gmail.com/day6hw"
      ],
      "metadata": {
        "id": "2wptDDCdjWll"
      }
    }
  ]
}