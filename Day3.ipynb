{
  "nbformat": 4,
  "nbformat_minor": 0,
  "metadata": {
    "colab": {
      "provenance": [],
      "authorship_tag": "ABX9TyNTY56RNuCzPJCVKwvNmGd5",
      "include_colab_link": true
    },
    "kernelspec": {
      "name": "python3",
      "display_name": "Python 3"
    },
    "language_info": {
      "name": "python"
    }
  },
  "cells": [
    {
      "cell_type": "markdown",
      "metadata": {
        "id": "view-in-github",
        "colab_type": "text"
      },
      "source": [
        "<a href=\"https://colab.research.google.com/github/Paperdasher/mypy/blob/main/Day3.ipynb\" target=\"_parent\"><img src=\"https://colab.research.google.com/assets/colab-badge.svg\" alt=\"Open In Colab\"/></a>"
      ]
    },
    {
      "cell_type": "markdown",
      "source": [
        "#<b>Day 9: Intro to Operations</b>\n"
      ],
      "metadata": {
        "id": "vH2MBPOmWOg2"
      }
    },
    {
      "cell_type": "markdown",
      "source": [
        "When we deal with data, many times we need to do mathmatical operations. We can use our everyday math operators for this.\n",
        "\n"
      ],
      "metadata": {
        "id": "HI7_8Wp4WhPM"
      }
    },
    {
      "cell_type": "markdown",
      "source": [
        "##<b>Arithmetic Operators</b>\n",
        "- Addition: +\n",
        "- Subtraction: -\n",
        "- Multiplication: *\n",
        "- Division: /\n",
        "- Floor Division: // (15 // 2 = 7, rounds result down to nearest whole num(always int type))\n",
        "- Modulo: %\n",
        "- Exponentiaiton: ** (2**3 = 8)\n",
        "\n",
        "Add can be used for other types such as strings."
      ],
      "metadata": {
        "id": "oF6ZcaV7Wtc1"
      }
    },
    {
      "cell_type": "markdown",
      "source": [
        "##<b>Assignment Operators</b>\n",
        "- Equals: =\n",
        "\n",
        "We can use special assignment syntax to cut the amount of code we need to write.\n",
        "\n",
        "- add: +=\n",
        "- subtract: -=\n",
        "- multiply: *=\n",
        "- divide: /=\n"
      ],
      "metadata": {
        "id": "IzEAwTHVWBkR"
      }
    },
    {
      "cell_type": "markdown",
      "source": [
        "\n",
        "\n",
        "```\n",
        "a -= 1\n",
        "string_name += \"abc\"\n",
        "```\n",
        "\n",
        "```\n",
        "a = a - 1\n",
        "string_name = string_name + \"abc\"\n",
        "```\n"
      ],
      "metadata": {
        "id": "Wr9bGy1_YhDO"
      }
    },
    {
      "cell_type": "markdown",
      "source": [
        "We can do this for any arithmetic operation to assign it to a variable.\n",
        "\n",
        "Note: In some languages, `++, --`, and similar assignment operators are valid. In Python, they are not allowed."
      ],
      "metadata": {
        "id": "DNViYQrsZOCa"
      }
    },
    {
      "cell_type": "markdown",
      "source": [
        "##<b>Comparison Operators</b>\n",
        "\n",
        "- Equal: ==\n",
        "- Not equal: !=\n",
        "- Greater than: >\n",
        "- Less than: <\n",
        "- Greater than or equal to: >=\n",
        "- Less than or equal to: <="
      ],
      "metadata": {
        "id": "jsG0_OgeYdDR"
      }
    },
    {
      "cell_type": "markdown",
      "source": [
        "Always remember that the <b>= comes AFTER the character</b>. So for assignment and comparison operators, = is always the last character.\n",
        "\n",
        "Comparison operators are most frequently used in if statements. They return a boolean value.\n",
        "\n",
        "In other languages, they may be embedded in a for loop as the boolean condition. In Python, it will mostly be used in the while loop in the cases of iterating."
      ],
      "metadata": {
        "id": "m5Ontj9yZpZA"
      }
    },
    {
      "cell_type": "markdown",
      "source": [
        "##<b>Type Operations</b>\n",
        "\n",
        "Depending on the language, operators act differently based on the data type. In Python, it converts the result to the more specific type.\n",
        "\n",
        "###Addition, subtraction, multiplication:\n",
        "- when using only ints, the result is an int\n",
        "- when mixing ints and floats, the result is the more specific data type(float)\n",
        "\n",
        "###Division:\n",
        "- result always a float(even if dividing two ints that are divisible)\n",
        "\n",
        "```\n",
        "10 / 2 => 5.0\n",
        "2 / 5 => 0.4\n",
        "```\n",
        "\n",
        "Note: In some languages such as Java, int division always results in int division, so 2/5 would result in 0.\n",
        "\n",
        "###Strings:\n",
        "\n",
        "Python does not let string operations with other types such as numbers. In other languages, numeric values may be concatenated with a string to change type to string type, but Python is not one of them."
      ],
      "metadata": {
        "id": "p0vn5apAZfuc"
      }
    },
    {
      "cell_type": "markdown",
      "source": [
        "---"
      ],
      "metadata": {
        "id": "3Ux1eEczXaKa"
      }
    },
    {
      "cell_type": "markdown",
      "source": [
        "##<b>Exercise: Code using the directions given to reach the result value. Be careful of order of operations.</b>\n"
      ],
      "metadata": {
        "id": "FchW7SnTXChQ"
      }
    },
    {
      "cell_type": "markdown",
      "source": [
        "\n",
        "1. Add 4 to 2. Then multiply by 6. Subtract 1. Then divide by 5."
      ],
      "metadata": {
        "id": "Bz_8Poj-Xlxh"
      }
    },
    {
      "cell_type": "code",
      "source": [],
      "metadata": {
        "id": "j1hVxHDgXdNo"
      },
      "execution_count": null,
      "outputs": []
    },
    {
      "cell_type": "markdown",
      "source": [
        "2. Take 3 to the power of 3. Then find the whole number result when divided by 4. Take that number and subtract 5."
      ],
      "metadata": {
        "id": "xzhEfz8lXg9Y"
      }
    },
    {
      "cell_type": "code",
      "source": [],
      "metadata": {
        "id": "Y5za7llOXdjW"
      },
      "execution_count": null,
      "outputs": []
    },
    {
      "cell_type": "markdown",
      "source": [
        "\n",
        "3. What is the remainder of 329176 divided by 913?"
      ],
      "metadata": {
        "id": "TBCmOd3_XiZt"
      }
    },
    {
      "cell_type": "code",
      "source": [],
      "metadata": {
        "id": "1vVLNViQXd2f"
      },
      "execution_count": null,
      "outputs": []
    },
    {
      "cell_type": "markdown",
      "source": [
        "---"
      ],
      "metadata": {
        "id": "0Ajpb-9wXbce"
      }
    },
    {
      "cell_type": "markdown",
      "source": [
        "##<b>HW: Follow the directions on the homework file labeled Day3HW.</b>"
      ],
      "metadata": {
        "id": "Ea2cvwjNW4zk"
      }
    }
  ]
}