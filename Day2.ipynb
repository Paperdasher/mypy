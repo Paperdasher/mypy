{
  "nbformat": 4,
  "nbformat_minor": 0,
  "metadata": {
    "colab": {
      "provenance": [],
      "authorship_tag": "ABX9TyPPHWC65OGB9LZ7nJCxlKMj",
      "include_colab_link": true
    },
    "kernelspec": {
      "name": "python3",
      "display_name": "Python 3"
    },
    "language_info": {
      "name": "python"
    }
  },
  "cells": [
    {
      "cell_type": "markdown",
      "metadata": {
        "id": "view-in-github",
        "colab_type": "text"
      },
      "source": [
        "<a href=\"https://colab.research.google.com/github/Paperdasher/mypy/blob/main/Day2.ipynb\" target=\"_parent\"><img src=\"https://colab.research.google.com/assets/colab-badge.svg\" alt=\"Open In Colab\"/></a>"
      ]
    },
    {
      "cell_type": "markdown",
      "source": [
        "#**Day 2: Type Casting, Advanced Data Types**\n",
        "\n",
        "\n"
      ],
      "metadata": {
        "id": "5d5OcCq3Lv_p"
      }
    },
    {
      "cell_type": "markdown",
      "source": [
        "## int\n",
        "\n",
        "An int is like the integers you deal with in math class. They don't contain decimals, and can be both negative or positive.\n",
        "So, 5 is a valid int and so is -2000."
      ],
      "metadata": {
        "id": "1yFt-QhyMcfg"
      }
    },
    {
      "cell_type": "markdown",
      "source": [
        "*Try creating a int variable, and printing it*\n"
      ],
      "metadata": {
        "id": "GXXcp_H2MEPF"
      }
    },
    {
      "cell_type": "code",
      "source": [],
      "metadata": {
        "id": "flisLmPeMKc9"
      },
      "execution_count": null,
      "outputs": []
    },
    {
      "cell_type": "markdown",
      "source": [
        "\n",
        "When we cast to an int, it always takes the decimal part away. In other words, the number gets closer to 0. There is no \"traditional rounding\" by greater or less than 5.\n",
        "\n",
        "\n",
        "\n",
        "\n",
        "\n"
      ],
      "metadata": {
        "id": "Nhc0CLoiMK9P"
      }
    },
    {
      "cell_type": "code",
      "source": [
        "print(int(-2.5)) # prints -2 because getting rid of the decimals results in -2. Also, -2 is closer to 0.\n",
        "print(int(5.8)) # prints 5"
      ],
      "metadata": {
        "id": "sPuGZX-2MSSm"
      },
      "execution_count": null,
      "outputs": []
    },
    {
      "cell_type": "markdown",
      "source": [
        "## bool\n",
        "\n",
        "A boolean is a concept of True and False. If somebody asks you \"Can humans time-travel?\" your answer most likely will be \"No.\"\n",
        "We can assess that this question was a True or False question, so your answer in boolean terms would be false.\n",
        "Most terms in Python will return True if you put it in boolean terms. But, some values are considered false.\n",
        "```\n",
        "False, None, 0, \"\", (), [], {}\n",
        "```\n",
        "will all return false. Basically, empty elements, the boolean False, None, and 0 will give you False.\n",
        "This means that, when we deal with numbers, we can use 0 and 1 as binary terms to return True and False values.\n"
      ],
      "metadata": {
        "id": "W-AxmKAiMShf"
      }
    },
    {
      "cell_type": "markdown",
      "source": [
        "*Try creating different variable types, and when printing type cast to a boolean*"
      ],
      "metadata": {
        "id": "oJDtFnzYMjeK"
      }
    },
    {
      "cell_type": "code",
      "source": [
        "boolean_val = True\n",
        "boolean_val2 = False\n",
        "print(boolean_val)\n",
        "print(boolean_val2)\n",
        "\n",
        "# Try other data types, and type cast using bool() when printing.\n"
      ],
      "metadata": {
        "colab": {
          "base_uri": "https://localhost:8080/"
        },
        "collapsed": true,
        "id": "1_Alo9xjMjvl",
        "outputId": "d825bd00-05d2-4404-e887-9d19df9ab70b"
      },
      "execution_count": null,
      "outputs": [
        {
          "output_type": "stream",
          "name": "stdout",
          "text": [
            "True\n",
            "False\n"
          ]
        }
      ]
    },
    {
      "cell_type": "markdown",
      "source": [
        "## range\n",
        "\n",
        "A range is what it sounds like, a sequence of numbers. We can be creative about what kind of sequence we want.\n",
        "A range is a sequence type, so it isn't considered numeric. This means that range is just like a list or tuple, just in a different format.\n",
        "By default, the sequence starts at 0 and increments by 1.\n",
        "\n",
        "`range(start, stop, increment)`\n",
        "\n",
        "The only required element here is the stop. When only one number is given in the (), it is assumed default val for the other two vals.\n",
        "If there are two nums (a, b), it is assumed the start and stop value.\n",
        "This means that if you want an increment, you must have all three values, even if you'd like to start at the default 0.\n"
      ],
      "metadata": {
        "id": "YHJ8fbQTMkHx"
      }
    },
    {
      "cell_type": "markdown",
      "source": [
        "*Try creating a range variable, and printing it*\n",
        "\n",
        "What does printing range look like? How would you print each individual value in the sequence?(more in future lessons)"
      ],
      "metadata": {
        "id": "yLfkMjB9N-EH"
      }
    },
    {
      "cell_type": "code",
      "source": [],
      "metadata": {
        "collapsed": true,
        "id": "fIgU5BIDN-ap"
      },
      "execution_count": null,
      "outputs": []
    },
    {
      "cell_type": "markdown",
      "source": [
        "---"
      ],
      "metadata": {
        "id": "DaVUxzirOxsk"
      }
    },
    {
      "cell_type": "markdown",
      "source": [
        "We can assign multiple variables in one line, making our code more easily readable\n",
        "\n",
        "\n",
        "```\n",
        "a, b, c = \"Barack\", \"Donald\", \"Joe\"\n",
        "print(a), print(b), print(c)\n",
        "```\n",
        "\n"
      ],
      "metadata": {
        "id": "6ksHnNQSN-on"
      }
    },
    {
      "cell_type": "markdown",
      "source": [
        "We can also assign multiple variables to the same value\n",
        "\n",
        "\n",
        "```\n",
        "d = e = f = \"Canada\"\n",
        "print(d), print(e), print(f)\n",
        "```\n",
        "\n"
      ],
      "metadata": {
        "id": "3nnYXlqaOzWu"
      }
    },
    {
      "cell_type": "markdown",
      "source": [
        "We can unpack a data structure using variables.\n",
        "\n",
        "```\n",
        "Days = [\"Monday\", \"Tuesday\", \"Wednesday\"]\n",
        "g, h, i = Days\n",
        "print(Days)\n",
        "print(g, h, i)\n",
        "```\n"
      ],
      "metadata": {
        "id": "TknFWXb5O9KY"
      }
    },
    {
      "cell_type": "markdown",
      "source": [
        "Just like string concatenation, we can use variable addition to do the same operation\n",
        "\n",
        "```\n",
        "l, m, n = \"My \", \"little \", \"pony\"\n",
        "print(l + m + n)\n",
        "```\n"
      ],
      "metadata": {
        "id": "AZza8G5MPNjV"
      }
    },
    {
      "cell_type": "markdown",
      "source": [
        "Global is a word often used to refer to the world. In Python, global variable are variables that can be used by any function.\n",
        "To assign a global variable, simply assign the variable outside of any function.\n",
        "Creating a variable with the same name as the global variable will not change the global variable or its value, as shown below:\n"
      ],
      "metadata": {
        "id": "FM_XeWUEPW8w"
      }
    },
    {
      "cell_type": "code",
      "source": [
        "a = \"cute\"\n",
        "\n",
        "def foo():\n",
        "   a = \"ugly\" # local variable\n",
        "   print(\"She is \" + a) # prints using local varialbe\n",
        "\n",
        "foo() # calles function foo()\n",
        "print(\"She is \" + a) # prints using global variable"
      ],
      "metadata": {
        "colab": {
          "base_uri": "https://localhost:8080/"
        },
        "collapsed": true,
        "id": "cQlePxKuPgYR",
        "outputId": "5e20e84b-0578-4edd-ca4f-f86fb1ecd461"
      },
      "execution_count": null,
      "outputs": [
        {
          "output_type": "stream",
          "name": "stdout",
          "text": [
            "She is ugly\n",
            "She is cute\n"
          ]
        }
      ]
    },
    {
      "cell_type": "markdown",
      "source": [
        "##**Quiz Time**\n",
        "\n",
        "1. What will `2024newyear = \"Happy New Year!\"` output?\n",
        "\n",
        "2. What is the value of container?\n",
        "\n",
        "`shelf, container = 100, 20`\n",
        "\n",
        "3. Assign the value `-10, 5.5, True, \"Yay!\"` to four variables with different names on one line. Then print each value on one line.\n",
        "   This means that there should only be two lines of code."
      ],
      "metadata": {
        "id": "AsAeuj1rPgj7"
      }
    },
    {
      "cell_type": "code",
      "source": [
        "#3. ANSWER BELOW\n"
      ],
      "metadata": {
        "id": "p2SAgrl-P9oX"
      },
      "execution_count": null,
      "outputs": []
    },
    {
      "cell_type": "markdown",
      "source": [
        "---"
      ],
      "metadata": {
        "id": "k4PQ5PgfREYd"
      }
    },
    {
      "cell_type": "markdown",
      "source": [
        "##**HW: Think about different shapes around us. How can we tell a computer to draw them? What steps do we need?**"
      ],
      "metadata": {
        "id": "HcZQZGZzQEZc"
      }
    }
  ]
}